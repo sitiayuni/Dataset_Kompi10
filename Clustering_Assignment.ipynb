{
  "cells": [
    {
      "cell_type": "markdown",
      "metadata": {
        "id": "view-in-github",
        "colab_type": "text"
      },
      "source": [
        "<a href=\"https://colab.research.google.com/github/sitiayuni/Dataset_Kompi10/blob/main/Clustering_Assignment.ipynb\" target=\"_parent\"><img src=\"https://colab.research.google.com/assets/colab-badge.svg\" alt=\"Open In Colab\"/></a>"
      ]
    },
    {
      "cell_type": "markdown",
      "id": "e05ead72",
      "metadata": {
        "id": "e05ead72"
      },
      "source": [
        "# Clustering Assignment\n",
        "In this project, we will be performing an unsupervised clustering of data on the customer's records from a groceries firm's database. Customer segmentation is the practice of separating customers into groups that reflect similarities among customers in each cluster. We will divide customers into segments to optimize the significance of each customer to the business. To modify products according to distinct needs and behaviours of the customers. It also helps the business to cater to the concerns of different types of customers.\n",
        "\n",
        "__Requirements__:\n",
        "1. Use python for all assignments from any packages of your choice to integrate for data transformations and analysis.\n",
        "\n",
        "__Deliverables__:\n",
        "1. Python Jupyter notebook with your code based on the questions provided. Add comments to the code !!!\n",
        "\n",
        "__What are we looking for__:\n",
        "1. Tell the reason why you provide each of the variables inside the data.\n",
        "2. There are multiple right solutions to this assignment (Python can be written in many different ways).\n",
        "3. Be precise and to the point (don’t be long winded). Provide justifications to your recommendations.\n",
        "4. Use comments in the code !!!\n",
        "5. The rationale behind the decisions you made."
      ]
    },
    {
      "cell_type": "code",
      "execution_count": null,
      "id": "396e856a",
      "metadata": {
        "id": "396e856a"
      },
      "outputs": [],
      "source": [
        "# Import your package required below"
      ]
    },
    {
      "cell_type": "code",
      "execution_count": null,
      "id": "ed3a6beb",
      "metadata": {
        "id": "ed3a6beb"
      },
      "outputs": [],
      "source": [
        "import numpy as np\n",
        "import pandas as pd\n",
        "import datetime\n",
        "import matplotlib\n",
        "import matplotlib.pyplot as plt\n",
        "from matplotlib import colors\n",
        "import seaborn as sns\n",
        "from sklearn.preprocessing import LabelEncoder\n",
        "from sklearn.preprocessing import StandardScaler\n",
        "from sklearn.decomposition import PCA\n",
        "from yellowbrick.cluster import KElbowVisualizer\n",
        "from sklearn.cluster import KMeans\n",
        "import matplotlib.pyplot as plt, numpy as np\n",
        "from mpl_toolkits.mplot3d import Axes3D\n",
        "from sklearn.cluster import AgglomerativeClustering\n",
        "from matplotlib.colors import ListedColormap\n",
        "from sklearn import metrics\n",
        "import warnings\n",
        "import sys\n",
        "if not sys.warnoptions:\n",
        "    warnings.simplefilter(\"ignore\")\n",
        "np.random.seed(42)"
      ]
    },
    {
      "cell_type": "code",
      "execution_count": null,
      "id": "371771e1",
      "metadata": {
        "id": "371771e1"
      },
      "outputs": [],
      "source": [
        "# Import the following data into dataframe named as \"DATA\""
      ]
    },
    {
      "cell_type": "code",
      "execution_count": null,
      "id": "eb7c2252",
      "metadata": {
        "scrolled": true,
        "id": "eb7c2252"
      },
      "outputs": [],
      "source": [
        "data = pd.read_csv('marketing_campaign.csv', sep=\"\\t\")"
      ]
    },
    {
      "cell_type": "markdown",
      "id": "4d1c02e2",
      "metadata": {
        "id": "4d1c02e2"
      },
      "source": [
        "1. Check the information about the train set:\n",
        "* Show first 5 rows.\n",
        "* Show many rows are there?\n",
        "* Show how many columns are there?\n",
        "* Show what the type of each column is?\n",
        "* Show which columns have null values?\n",
        "\n",
        "\n"
      ]
    },
    {
      "cell_type": "code",
      "source": [],
      "metadata": {
        "id": "-apWQDxWyYjC"
      },
      "id": "-apWQDxWyYjC",
      "execution_count": null,
      "outputs": []
    },
    {
      "cell_type": "markdown",
      "id": "dd905808",
      "metadata": {
        "id": "dd905808"
      },
      "source": [
        "2. Remove the NA values and print how many rows after removing!"
      ]
    },
    {
      "cell_type": "code",
      "source": [],
      "metadata": {
        "id": "Sz5fGgdpyYOE"
      },
      "id": "Sz5fGgdpyYOE",
      "execution_count": null,
      "outputs": []
    },
    {
      "cell_type": "markdown",
      "id": "53bc8248",
      "metadata": {
        "id": "53bc8248"
      },
      "source": [
        "3. Feature Engineering Task! Create this features:\n",
        "*   **Age**: Age of customer today. <br>\n",
        "Assumed today is year 2021. Calculate the age now using the column \"Year_Birth\".\n",
        "*   **Spent**: Total spendings on various items. <br>\n",
        "Sum the \"MntWines\", \"MntFruits\", \"MntMeatProducts\", \"MntFishProducts\", \"MntSweetProducts\", and \"MntGoldProds\"\n",
        "*   **Living_With**: Deriving living situation by marital status \"Alone\". <br>\n",
        "If the \"Marital_Status\" is \"Married\" or \"Together\" then the value is \"Partner\", else if the \"Marital_Status\" is \"Absurd\" or \"Widow\" or \"YOLO\" or \"Divorced\" or \"Single\" then the value is \"Alone\"\n",
        "*   **Children**: Feature indicating total children living in the household. <br>\n",
        "Sum the \"Kidhome\" and \"Teenhome\"\n",
        "*   **Family_Size**: Feature for total members in the household. <br>\n",
        "Sum the \"Children\" with (if the value of \"Living_With\" is \"Alone\" then 1, if the value of \"Living_With\" is \"Partner\" then 2)\n",
        "*   **Is_Parent**: Feature pertaining parenthood. <br>\n",
        "If the \"Children\" is greater than zero, the value is 1, else is 0.\n",
        "*   **Education**: Segmenting education levels in three groups. <br>\n",
        "Replace the value in existing \"Education\" with:<br>\n",
        "\"Basic\": \"Undergraduate\", <br>\n",
        "\"2n Cycle\": \"Undergraduate\", <br>\n",
        "\"Graduation\": \"Graduate\", <br>\n",
        "\"Master\": \"Postgraduate\", <br>\n",
        "\"PhD\": \"Postgraduate\". <br>\n",
        "\n"
      ]
    },
    {
      "cell_type": "code",
      "source": [],
      "metadata": {
        "id": "5kpoVMZlyaOY"
      },
      "id": "5kpoVMZlyaOY",
      "execution_count": null,
      "outputs": []
    },
    {
      "cell_type": "markdown",
      "id": "986f3c8f",
      "metadata": {
        "id": "986f3c8f"
      },
      "source": [
        "4. For clarity, rename these columns like this:<br>\n",
        "\"MntWines\": \"Wines\", <br>\n",
        "\"MntFruits\": \"Fruits\", <br>\n",
        "\"MntMeatProducts\": \"Meat\", <br>\n",
        "\"MntFishProducts\": \"Fish\",<br>\n",
        "\"MntSweetProducts\": \"Sweets\",<br>\n",
        "\"MntGoldProds\": \"Gold\". <br> <br>\n",
        "And, drop these columns:\n",
        "  *   \"Marital_Status\"\n",
        "  *   \"Dt_Customer\"\n",
        "  *   \"Z_CostContact\"\n",
        "  *   \"Z_Revenue\"\n",
        "  *   \"Year_Birth\"\n",
        "  *   \"ID\"\n",
        "  *   'AcceptedCmp3',\n",
        "  *   'AcceptedCmp4',\n",
        "  *   'AcceptedCmp5',\n",
        "  *   'AcceptedCmp1',\n",
        "  *   'AcceptedCmp2',\n",
        "  *   'Complain',\n",
        "  *   'Response'"
      ]
    },
    {
      "cell_type": "code",
      "source": [],
      "metadata": {
        "id": "lqX0xzEsycsV"
      },
      "id": "lqX0xzEsycsV",
      "execution_count": null,
      "outputs": []
    },
    {
      "cell_type": "markdown",
      "source": [
        "5. Run the cell below and see the outliers of age and income. And then, build the script at new cell to drop the outliers"
      ],
      "metadata": {
        "id": "tmcbziMBnfHc"
      },
      "id": "tmcbziMBnfHc"
    },
    {
      "cell_type": "code",
      "source": [
        "# DO NOT EDIT THIS CELL, JUST RUN\n",
        "\n",
        "# Setting up colors prefrences\n",
        "sns.set(rc={\"axes.facecolor\":\"#FFF9ED\",\"figure.facecolor\":\"#FFF9ED\"})\n",
        "pallet = [\"#682F2F\", \"#9E726F\", \"#D6B2B1\", \"#B9C0C9\", \"#9F8A78\", \"#F3AB60\"]\n",
        "cmap = colors.ListedColormap([\"#682F2F\", \"#9E726F\", \"#D6B2B1\", \"#B9C0C9\", \"#9F8A78\", \"#F3AB60\"])\n",
        "\n",
        "# Plotting following features\n",
        "To_Plot = [ \"Income\", \"Age\", \"Is_Parent\"]\n",
        "print(\"Reletive Plot Of Some Selected Features: A Data Subset\")\n",
        "plt.figure()\n",
        "sns.pairplot(data[To_Plot], hue= \"Is_Parent\",palette= ([\"#682F2F\",\"#F3AB60\"]))\n",
        "\n",
        "# Taking hue\n",
        "plt.show()"
      ],
      "metadata": {
        "id": "fXIF-lZoye_r"
      },
      "id": "fXIF-lZoye_r",
      "execution_count": null,
      "outputs": []
    },
    {
      "cell_type": "markdown",
      "source": [
        "And then, build the script at below new cell to drop the outliers of age and income! Print the number of rows after dropping!"
      ],
      "metadata": {
        "id": "YyIg_aiOv4Cc"
      },
      "id": "YyIg_aiOv4Cc"
    },
    {
      "cell_type": "code",
      "source": [
        "# START YOUR CODE HERE\n",
        "\n",
        "# END YOUR CODE HERE"
      ],
      "metadata": {
        "id": "eTOJYzqtvJXH"
      },
      "id": "eTOJYzqtvJXH",
      "execution_count": null,
      "outputs": []
    },
    {
      "cell_type": "markdown",
      "source": [
        "6. Do the label encoding using **LabelEncoder** so all the columns will be numerical! And then, print the method data.describe()!"
      ],
      "metadata": {
        "id": "LW7g6EH30G0P"
      },
      "id": "LW7g6EH30G0P"
    },
    {
      "cell_type": "code",
      "source": [],
      "metadata": {
        "id": "e7SKfxtA0Hjn"
      },
      "id": "e7SKfxtA0Hjn",
      "execution_count": null,
      "outputs": []
    },
    {
      "cell_type": "markdown",
      "id": "36bdc12a",
      "metadata": {
        "id": "36bdc12a"
      },
      "source": [
        "7. Scale the data using **StandardScaler** and print the first five rows! And copy the dataframe to new variable called **scaled_df**!"
      ]
    },
    {
      "cell_type": "code",
      "source": [],
      "metadata": {
        "id": "a26O2IdVygVD"
      },
      "id": "a26O2IdVygVD",
      "execution_count": null,
      "outputs": []
    },
    {
      "cell_type": "markdown",
      "source": [
        "<a id=\"5\"></a>\n",
        "# <p style=\"background-color:#682F2F;font-family:newtimeroman;color:#FFF9ED;font-size:150%;text-align:center;border-radius:10px 10px;\">DIMENSIONALITY REDUCTION</p>\n",
        "In this problem, there are many factors on the basis of which the final classification will be done. These factors are basically attributes or features. The higher the number of features, the harder it is to work with it. Many of these features are correlated, and hence redundant. This is why we will be performing dimensionality reduction on the selected features before putting them through a classifier.  \n",
        "*Dimensionality reduction is the process of reducing the number of random variables under consideration, by obtaining a set of principal variables.*\n",
        "\n",
        "**Principal component analysis (PCA)** is a technique for reducing the dimensionality of such datasets, increasing interpretability but at the same time minimizing information loss.\n",
        "\n",
        "**Steps in this section:**\n",
        "* Dimensionality reduction with PCA\n",
        "* Plotting the reduced dataframe\n",
        "\n",
        "**Dimensionality reduction with PCA**\n",
        "\n",
        "For this project, we will be reducing the dimensions to 3."
      ],
      "metadata": {
        "id": "n4RD1Li5zntO"
      },
      "id": "n4RD1Li5zntO"
    },
    {
      "cell_type": "markdown",
      "source": [
        "8. Do the PCA! Replace the None to the right value!\n",
        "Note: In this code, we will reduce the dataframe of **scaled_df** using PCA technique and assign it to new variable called **pca_df**. And we will train the model using **pca_df**"
      ],
      "metadata": {
        "id": "d7scSgEVyH-F"
      },
      "id": "d7scSgEVyH-F"
    },
    {
      "cell_type": "code",
      "source": [
        "# REPLACE THE NONE WITH RIGHT VALUE\n",
        "\n",
        "# START YOUR CODE HERE\n",
        "\n",
        "# Create a PCA object with 3 components (n_components)\n",
        "pca = PCA(n_components=None)\n",
        "\n",
        "# Fit the PCA model to the scaled data\n",
        "pca.fit(None)\n",
        "\n",
        "# Transform the scaled data to the principal components and assign it to a new dataframe called \"pca_df\"\n",
        "pca_df = pd.DataFrame(pca.transform(None), columns=['col1', 'col2', 'col3'])\n",
        "\n",
        "pca_df.describe().T\n",
        "\n",
        "# END YOUR CODE HERE"
      ],
      "metadata": {
        "id": "jv28uUxGyHXq"
      },
      "id": "jv28uUxGyHXq",
      "execution_count": null,
      "outputs": []
    },
    {
      "cell_type": "markdown",
      "source": [
        "After that, run this code below!"
      ],
      "metadata": {
        "id": "2QCXosyX01PY"
      },
      "id": "2QCXosyX01PY"
    },
    {
      "cell_type": "code",
      "source": [
        "# DO NOT EDIT THIS CELL, JUST RUN\n",
        "\n",
        "#A 3D Projection Of Data In The Reduced Dimension\n",
        "x =pca_df[\"col1\"]\n",
        "y =pca_df[\"col2\"]\n",
        "z =pca_df[\"col3\"]\n",
        "\n",
        "# To plot\n",
        "fig = plt.figure(figsize=(10,8))\n",
        "ax = fig.add_subplot(111, projection=\"3d\")\n",
        "ax.scatter(x,y,z, c=\"maroon\", marker=\"o\" )\n",
        "ax.set_title(\"A 3D Projection Of Data In The Reduced Dimension\")\n",
        "plt.show()"
      ],
      "metadata": {
        "id": "AAg5PwOu04de"
      },
      "id": "AAg5PwOu04de",
      "execution_count": null,
      "outputs": []
    },
    {
      "cell_type": "markdown",
      "source": [
        "9. <a id=\"6\"></a>\n",
        " <p style=\"background-color:#682F2F;font-family:newtimeroman;color:#FFF9ED;font-size:150%;text-align:center;border-radius:10px 10px;\">CLUSTERING</p>\n",
        "\n",
        "Now that we have reduced the attributes to three dimensions, we will be performing clustering via Agglomerative clustering. Agglomerative clustering is a hierarchical clustering method.  It involves merging examples until the desired number of clusters is achieved.\n",
        "\n",
        "**Steps involved in the Clustering**\n",
        "* Elbow Method to determine the number of clusters to be formed\n",
        "* Clustering via Agglomerative Clustering\n",
        "* Examining the clusters formed via scatter plot"
      ],
      "metadata": {
        "id": "stZ8Sv_s0vWz"
      },
      "id": "stZ8Sv_s0vWz"
    },
    {
      "cell_type": "code",
      "source": [
        "# DO NOT EDIT THIS CELL, JUST RUN\n",
        "\n",
        "# Quick examination of elbow method to find numbers of clusters to make.\n",
        "print('Elbow Method to determine the number of clusters to be formed:')\n",
        "Elbow_M = KElbowVisualizer(KMeans(), k=10)\n",
        "Elbow_M.fit(pca_df)\n",
        "Elbow_M.show()"
      ],
      "metadata": {
        "id": "YA_fo85B0dR7"
      },
      "id": "YA_fo85B0dR7",
      "execution_count": null,
      "outputs": []
    },
    {
      "cell_type": "markdown",
      "source": [
        "The above cell indicates that four will be an optimal number of clusters for this data.\n",
        "Next, we will be fitting the Agglomerative Clustering Model to get the final clusters."
      ],
      "metadata": {
        "id": "BTXZiH4U1i7-"
      },
      "id": "BTXZiH4U1i7-"
    },
    {
      "cell_type": "code",
      "source": [
        "# REPLACE THE NONE WITH RIGHT VALUE\n",
        "\n",
        "# Initiating the Agglomerative Clustering model\n",
        "AC = AgglomerativeClustering(n_clusters=None)\n",
        "\n",
        "# Fit model and predict clusters\n",
        "yhat_AC = AC.fit_predict(None)\n",
        "pca_df[\"Clusters\"] = yhat_AC\n",
        "\n",
        "# Adding the Clusters feature to the orignal dataframe.\n",
        "data[\"Clusters\"]= yhat_AC"
      ],
      "metadata": {
        "id": "GHQvfbmD1ff0"
      },
      "id": "GHQvfbmD1ff0",
      "execution_count": null,
      "outputs": []
    },
    {
      "cell_type": "markdown",
      "source": [
        "To examine the clusters formed let's have a look at the 3-D distribution of the clusters."
      ],
      "metadata": {
        "id": "u1XweQnS1mV_"
      },
      "id": "u1XweQnS1mV_"
    },
    {
      "cell_type": "code",
      "source": [
        "# DO NOT EDIT THIS CELL, JUST RUN\n",
        "\n",
        "# Plotting the clusters\n",
        "fig = plt.figure(figsize=(10,8))\n",
        "ax = plt.subplot(111, projection='3d', label=\"bla\")\n",
        "ax.scatter(x, y, z, s=40, c=pca_df[\"Clusters\"], marker='o', cmap = cmap )\n",
        "ax.set_title(\"The Plot Of The Clusters\")\n",
        "plt.show()"
      ],
      "metadata": {
        "id": "wYJKoi-W1my-"
      },
      "id": "wYJKoi-W1my-",
      "execution_count": null,
      "outputs": []
    }
  ],
  "metadata": {
    "kernelspec": {
      "display_name": "Python 3 (ipykernel)",
      "language": "python",
      "name": "python3"
    },
    "language_info": {
      "codemirror_mode": {
        "name": "ipython",
        "version": 3
      },
      "file_extension": ".py",
      "mimetype": "text/x-python",
      "name": "python",
      "nbconvert_exporter": "python",
      "pygments_lexer": "ipython3",
      "version": "3.11.0"
    },
    "toc": {
      "base_numbering": 1,
      "nav_menu": {},
      "number_sections": false,
      "sideBar": true,
      "skip_h1_title": false,
      "title_cell": "Table of Contents",
      "title_sidebar": "Contents",
      "toc_cell": false,
      "toc_position": {
        "height": "calc(100% - 180px)",
        "left": "10px",
        "top": "150px",
        "width": "261.104px"
      },
      "toc_section_display": true,
      "toc_window_display": true
    },
    "colab": {
      "provenance": [],
      "include_colab_link": true
    }
  },
  "nbformat": 4,
  "nbformat_minor": 5
}