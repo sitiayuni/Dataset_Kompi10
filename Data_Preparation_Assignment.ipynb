{
  "cells": [
    {
      "cell_type": "markdown",
      "metadata": {
        "id": "view-in-github",
        "colab_type": "text"
      },
      "source": [
        "<a href=\"https://colab.research.google.com/github/sitiayuni/Dataset_Kompi10/blob/main/Data_Preparation_Assignment.ipynb\" target=\"_parent\"><img src=\"https://colab.research.google.com/assets/colab-badge.svg\" alt=\"Open In Colab\"/></a>"
      ]
    },
    {
      "cell_type": "markdown",
      "id": "e05ead72",
      "metadata": {
        "id": "e05ead72"
      },
      "source": [
        "# Data Preparation Assignment\n",
        "You were given files related to Merchant's Transaction Data.\n",
        "The business team needs to find analysis of which customer has the highest transaction and which merchant has the most potential from merchant's historical transaction. The management would like to know if you can provide us which merchant that is suitable for the next campaign or promo to increase number of transactions using our banking mobile app. Please provide justification for your recommendations.\n",
        "\n",
        "__Requirements__:\n",
        "1. Use python for all assignments from any packages of your choice to integrate for data transformations and analysis.\n",
        "\n",
        "__Deliverables__:\n",
        "1. Python Jupyter notebook with your code based on the questions provided. Add comments to the code !!!\n",
        "\n",
        "__What are we looking for__:\n",
        "1. Tell the reason why you provide each of the variables inside the data.\n",
        "2. There are multiple right solutions to this assignment (Python can be written in many different ways).\n",
        "3. Be precise and to the point (don’t be long winded). Provide justifications to your recommendations.\n",
        "4. Use comments in the code !!!\n",
        "5. The rationale behind the decisions you made."
      ]
    },
    {
      "cell_type": "code",
      "execution_count": null,
      "id": "396e856a",
      "metadata": {
        "id": "396e856a"
      },
      "outputs": [],
      "source": [
        "# Import your package required below"
      ]
    },
    {
      "cell_type": "code",
      "execution_count": null,
      "id": "ed3a6beb",
      "metadata": {
        "id": "ed3a6beb"
      },
      "outputs": [],
      "source": [
        "# import pandas as pd\n",
        "# import numpy as np"
      ]
    },
    {
      "cell_type": "code",
      "execution_count": null,
      "id": "371771e1",
      "metadata": {
        "id": "371771e1"
      },
      "outputs": [],
      "source": [
        "# Import the following data into dataframe named as \"df\""
      ]
    },
    {
      "cell_type": "code",
      "execution_count": null,
      "id": "eb7c2252",
      "metadata": {
        "scrolled": true,
        "id": "eb7c2252"
      },
      "outputs": [],
      "source": [
        "# df = pd.read_csv(\"Data Preparation Assignment Data.csv\", low_memory = False)"
      ]
    },
    {
      "cell_type": "markdown",
      "id": "3772bc44",
      "metadata": {
        "id": "3772bc44"
      },
      "source": [
        "# Beginner"
      ]
    },
    {
      "cell_type": "markdown",
      "id": "4d1c02e2",
      "metadata": {
        "id": "4d1c02e2"
      },
      "source": [
        "1. Show us the first 10 rows data inside the dataframe"
      ]
    },
    {
      "cell_type": "code",
      "execution_count": null,
      "id": "47d196da",
      "metadata": {
        "id": "47d196da"
      },
      "outputs": [],
      "source": []
    },
    {
      "cell_type": "markdown",
      "id": "dd905808",
      "metadata": {
        "id": "dd905808"
      },
      "source": [
        "2. Check the data types for each variable"
      ]
    },
    {
      "cell_type": "code",
      "execution_count": null,
      "id": "54c6f8e5",
      "metadata": {
        "id": "54c6f8e5"
      },
      "outputs": [],
      "source": []
    },
    {
      "cell_type": "markdown",
      "id": "53bc8248",
      "metadata": {
        "id": "53bc8248"
      },
      "source": [
        "3. Change \"Transaction Date\" variable format to date only"
      ]
    },
    {
      "cell_type": "code",
      "execution_count": null,
      "id": "8b51b917",
      "metadata": {
        "id": "8b51b917"
      },
      "outputs": [],
      "source": []
    },
    {
      "cell_type": "markdown",
      "id": "986f3c8f",
      "metadata": {
        "id": "986f3c8f"
      },
      "source": [
        "4. Sort the data from the oldest into newest transaction"
      ]
    },
    {
      "cell_type": "code",
      "execution_count": null,
      "id": "4ccd915c",
      "metadata": {
        "id": "4ccd915c"
      },
      "outputs": [],
      "source": []
    },
    {
      "cell_type": "markdown",
      "id": "36bdc12a",
      "metadata": {
        "id": "36bdc12a"
      },
      "source": [
        "5. Show us the last 5 rows data inside the dataframe"
      ]
    },
    {
      "cell_type": "code",
      "execution_count": null,
      "id": "687e25ce",
      "metadata": {
        "id": "687e25ce"
      },
      "outputs": [],
      "source": []
    },
    {
      "cell_type": "markdown",
      "id": "867a36b4",
      "metadata": {
        "id": "867a36b4"
      },
      "source": [
        "6. Find how many missing data across all variables"
      ]
    },
    {
      "cell_type": "code",
      "execution_count": null,
      "id": "8cd289c0",
      "metadata": {
        "id": "8cd289c0"
      },
      "outputs": [],
      "source": []
    },
    {
      "cell_type": "markdown",
      "id": "0ff494db",
      "metadata": {
        "id": "0ff494db"
      },
      "source": [
        "7. Delete all rows that has missing values"
      ]
    },
    {
      "cell_type": "code",
      "execution_count": null,
      "id": "f3563034",
      "metadata": {
        "id": "f3563034"
      },
      "outputs": [],
      "source": []
    },
    {
      "cell_type": "markdown",
      "id": "d3619006",
      "metadata": {
        "id": "d3619006"
      },
      "source": [
        "8. Find how many success transaction in \"Status\""
      ]
    },
    {
      "cell_type": "code",
      "execution_count": null,
      "id": "220c9852",
      "metadata": {
        "id": "220c9852"
      },
      "outputs": [],
      "source": []
    },
    {
      "cell_type": "markdown",
      "id": "379f15fe",
      "metadata": {
        "id": "379f15fe"
      },
      "source": [
        "9. Delete column \"No\" & \"Status\""
      ]
    },
    {
      "cell_type": "code",
      "execution_count": null,
      "id": "34d9d190",
      "metadata": {
        "id": "34d9d190"
      },
      "outputs": [],
      "source": []
    },
    {
      "cell_type": "markdown",
      "id": "a23b87a5",
      "metadata": {
        "id": "a23b87a5"
      },
      "source": [
        "10. Find all types of values in \"Tipe Transaksi\""
      ]
    },
    {
      "cell_type": "code",
      "execution_count": null,
      "id": "bca8156b",
      "metadata": {
        "id": "bca8156b"
      },
      "outputs": [],
      "source": []
    }
  ],
  "metadata": {
    "kernelspec": {
      "display_name": "Python 3 (ipykernel)",
      "language": "python",
      "name": "python3"
    },
    "language_info": {
      "codemirror_mode": {
        "name": "ipython",
        "version": 3
      },
      "file_extension": ".py",
      "mimetype": "text/x-python",
      "name": "python",
      "nbconvert_exporter": "python",
      "pygments_lexer": "ipython3",
      "version": "3.11.0"
    },
    "toc": {
      "base_numbering": 1,
      "nav_menu": {},
      "number_sections": false,
      "sideBar": true,
      "skip_h1_title": false,
      "title_cell": "Table of Contents",
      "title_sidebar": "Contents",
      "toc_cell": false,
      "toc_position": {
        "height": "calc(100% - 180px)",
        "left": "10px",
        "top": "150px",
        "width": "261.104px"
      },
      "toc_section_display": true,
      "toc_window_display": true
    },
    "colab": {
      "provenance": [],
      "include_colab_link": true
    }
  },
  "nbformat": 4,
  "nbformat_minor": 5
}