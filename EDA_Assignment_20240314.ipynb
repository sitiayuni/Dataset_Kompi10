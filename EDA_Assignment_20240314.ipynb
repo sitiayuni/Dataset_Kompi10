{
  "cells": [
    {
      "cell_type": "markdown",
      "metadata": {
        "id": "view-in-github",
        "colab_type": "text"
      },
      "source": [
        "<a href=\"https://colab.research.google.com/github/sitiayuni/Dataset_Kompi10/blob/main/EDA_Assignment_20240314.ipynb\" target=\"_parent\"><img src=\"https://colab.research.google.com/assets/colab-badge.svg\" alt=\"Open In Colab\"/></a>"
      ]
    },
    {
      "cell_type": "markdown",
      "id": "e05ead72",
      "metadata": {
        "id": "e05ead72"
      },
      "source": [
        "# EDA Assignment\n",
        "You were given files related to Titanic's Passengers Data. The government needs to find an analysis of which passenger characteristic has the highest probability of survival and not survival. The government has built a data science team and incorporated you and would like to know if you can provide them with insights by conducting exploratory data analysis.\n",
        "\n",
        "__Requirements__:\n",
        "1. Use python for all assignments from any packages of your choice to integrate for data transformations and analysis.\n",
        "\n",
        "__Deliverables__:\n",
        "1. Python Jupyter notebook with your code based on the questions provided. Add comments to the code !!!\n",
        "\n",
        "__What are we looking for__:\n",
        "1. Tell the reason why you provide each of the variables inside the data.\n",
        "2. There are multiple right solutions to this assignment (Python can be written in many different ways).\n",
        "3. Be precise and to the point (don’t be long winded). Provide justifications to your recommendations.\n",
        "4. Use comments in the code !!!\n",
        "5. The rationale behind the decisions you made.\n",
        "\n",
        "__Data descriptions__:\n",
        "\n",
        "**survival:** 0 = No, 1 = Yes\n",
        "\n",
        "**pclass (Ticket class):** 1 = 1st, 2 = 2nd, 3 = 3rd\n",
        "\n",
        "**sex:** Sex\n",
        "\n",
        "**age:** Age in years\n",
        "\n",
        "**sibsp:** number of siblings/spouses aboard the Titanic\n",
        "\n",
        "**parch:** number of parents/children aboard the Titanic\n",
        "\n",
        "**ticket:** Ticket number\n",
        "\n",
        "**fare:** Passenger fare\n",
        "\n",
        "**cabin:** Cabin number\n",
        "\n",
        "**embarked:** Port of Embarkation, C = Cherbourg, Q = Queenstown, S = Southampton\n",
        "\n",
        "__You can find more information about the data here__:\n",
        "https://www.kaggle.com/competitions/titanic/data"
      ]
    },
    {
      "cell_type": "code",
      "execution_count": null,
      "id": "396e856a",
      "metadata": {
        "id": "396e856a"
      },
      "outputs": [],
      "source": [
        "# Import your package required below"
      ]
    },
    {
      "cell_type": "code",
      "execution_count": null,
      "id": "ed3a6beb",
      "metadata": {
        "id": "ed3a6beb"
      },
      "outputs": [],
      "source": [
        "# import math, time, random, datetime\n",
        "# import pandas as pd\n",
        "# import numpy as np\n",
        "# import matplotlib.pyplot as plt\n",
        "# import seaborn as sns"
      ]
    },
    {
      "cell_type": "code",
      "execution_count": null,
      "id": "371771e1",
      "metadata": {
        "id": "371771e1"
      },
      "outputs": [],
      "source": [
        "# Import the following data into dataframe named as \"train\""
      ]
    },
    {
      "cell_type": "code",
      "execution_count": null,
      "id": "eb7c2252",
      "metadata": {
        "scrolled": true,
        "id": "eb7c2252"
      },
      "outputs": [],
      "source": [
        "# train = pd.read_csv('train.csv')"
      ]
    },
    {
      "cell_type": "markdown",
      "id": "4d1c02e2",
      "metadata": {
        "id": "4d1c02e2"
      },
      "source": [
        "1. Check the information about the train set:\n",
        "* Show first 5 rows.\n",
        "* Show many rows are there?\n",
        "* Show how many columns are there?\n",
        "* Show what the type of each column is?\n",
        "* Show which columns have null values?\n",
        "\n",
        "\n"
      ]
    },
    {
      "cell_type": "code",
      "source": [],
      "metadata": {
        "id": "-apWQDxWyYjC"
      },
      "id": "-apWQDxWyYjC",
      "execution_count": null,
      "outputs": []
    },
    {
      "cell_type": "markdown",
      "id": "dd905808",
      "metadata": {
        "id": "dd905808"
      },
      "source": [
        "2. Make all the columns in the train dataset lowercase and show the result"
      ]
    },
    {
      "cell_type": "code",
      "source": [],
      "metadata": {
        "id": "Sz5fGgdpyYOE"
      },
      "id": "Sz5fGgdpyYOE",
      "execution_count": null,
      "outputs": []
    },
    {
      "cell_type": "markdown",
      "id": "53bc8248",
      "metadata": {
        "id": "53bc8248"
      },
      "source": [
        "3. Show each columns (numeric columns only) important values like the count, mean, std, min, 25%, 50%, 75%, and max"
      ]
    },
    {
      "cell_type": "code",
      "source": [],
      "metadata": {
        "id": "5kpoVMZlyaOY"
      },
      "id": "5kpoVMZlyaOY",
      "execution_count": null,
      "outputs": []
    },
    {
      "cell_type": "markdown",
      "id": "986f3c8f",
      "metadata": {
        "id": "986f3c8f"
      },
      "source": [
        "4. Visualize the age distribution (histogram). Show it using these 3 methods:\n",
        "* Pandas\n",
        "* Matplotlib\n",
        "* Seaborn\n",
        "\n",
        "And make sure to add the visualization title as \"Distribution of Age\", the y-axis title as \"Frequency\", and the x-axis title as \"Age\"."
      ]
    },
    {
      "cell_type": "code",
      "source": [],
      "metadata": {
        "id": "lqX0xzEsycsV"
      },
      "id": "lqX0xzEsycsV",
      "execution_count": null,
      "outputs": []
    },
    {
      "cell_type": "markdown",
      "source": [
        "5. Visualize the age distribution using boxplot. Show it using these 3 methods:\n",
        "* Pandas\n",
        "* Matplotlib\n",
        "* Seaborn\n",
        "\n",
        "And make sure to add the visualization title as \"Distribution of Age\", the y-axis title as \"Distribution\", and the x-axis title as \"Age\"."
      ],
      "metadata": {
        "id": "tmcbziMBnfHc"
      },
      "id": "tmcbziMBnfHc"
    },
    {
      "cell_type": "code",
      "source": [],
      "metadata": {
        "id": "fXIF-lZoye_r"
      },
      "id": "fXIF-lZoye_r",
      "execution_count": null,
      "outputs": []
    },
    {
      "cell_type": "markdown",
      "source": [
        "6. Build a bar chart to show the frequency of \"Sex\" column!\n",
        "\n",
        "And make sure to add the visualization title as \"Frequency of Gender\", the y-axis title as \"Count\", the x-axis title as \"Gender\", and add different color for the bar."
      ],
      "metadata": {
        "id": "LW7g6EH30G0P"
      },
      "id": "LW7g6EH30G0P"
    },
    {
      "cell_type": "code",
      "source": [],
      "metadata": {
        "id": "e7SKfxtA0Hjn"
      },
      "id": "e7SKfxtA0Hjn",
      "execution_count": null,
      "outputs": []
    },
    {
      "cell_type": "markdown",
      "id": "36bdc12a",
      "metadata": {
        "id": "36bdc12a"
      },
      "source": [
        "7. Create a new column named \"age_binning\" containing the values as follows:\n",
        "* For ages 0 to 10, use \"0-10\"\n",
        "* For ages 11 to 20, use \"11-20\"\n",
        "* For ages 21 to 30, use \"21-30\"\n",
        "Continue until \"71-80\" (since the maximum value is 80).\n",
        "* For ages that's missing, fill the \"age_binning\" using \"NULL\"\n",
        "\n",
        "And then show the count of each age_binning values!"
      ]
    },
    {
      "cell_type": "code",
      "source": [],
      "metadata": {
        "id": "a26O2IdVygVD"
      },
      "id": "a26O2IdVygVD",
      "execution_count": null,
      "outputs": []
    },
    {
      "cell_type": "markdown",
      "source": [
        "8. Build a bar chart where the x-axis is the \"age_binning\" and the y-axis is the survival probability of each bin. Use the groupby method to find the probability of each bin!\n",
        "\n",
        "* Add the visualization title as \"Survival Probability by Age Group\"\n",
        "* Add the x label title as \"Age Bin\"\n",
        "* Add the y label title as \"Survival Probability\"\n"
      ],
      "metadata": {
        "id": "qYVjeRW3eipd"
      },
      "id": "qYVjeRW3eipd"
    },
    {
      "cell_type": "code",
      "source": [],
      "metadata": {
        "id": "S6XPcpjayhdb"
      },
      "id": "S6XPcpjayhdb",
      "execution_count": null,
      "outputs": []
    },
    {
      "cell_type": "markdown",
      "source": [
        "9. Build a scatter plot where the x-axis represents the 'sex,' and the y-axis represents 'age.' Additionally, there are two dot colors (the survived data): green indicates 'survived,' and red indicates 'not survived'. (Note: you may use scatterplot or stripplot by seaborn!)"
      ],
      "metadata": {
        "id": "tgVIOJpWtz5D"
      },
      "id": "tgVIOJpWtz5D"
    },
    {
      "cell_type": "code",
      "source": [],
      "metadata": {
        "id": "7kHRm8t5yjGI"
      },
      "id": "7kHRm8t5yjGI",
      "execution_count": null,
      "outputs": []
    },
    {
      "cell_type": "markdown",
      "id": "867a36b4",
      "metadata": {
        "id": "867a36b4"
      },
      "source": [
        "10. Build the correlation matrix for the numeric columns only. Make sure to drop the passengerid and survived first. And visualize it! You may use seaborn library."
      ]
    },
    {
      "cell_type": "code",
      "source": [],
      "metadata": {
        "id": "-a_ve1QgylER"
      },
      "id": "-a_ve1QgylER",
      "execution_count": null,
      "outputs": []
    }
  ],
  "metadata": {
    "kernelspec": {
      "display_name": "Python 3 (ipykernel)",
      "language": "python",
      "name": "python3"
    },
    "language_info": {
      "codemirror_mode": {
        "name": "ipython",
        "version": 3
      },
      "file_extension": ".py",
      "mimetype": "text/x-python",
      "name": "python",
      "nbconvert_exporter": "python",
      "pygments_lexer": "ipython3",
      "version": "3.11.0"
    },
    "toc": {
      "base_numbering": 1,
      "nav_menu": {},
      "number_sections": false,
      "sideBar": true,
      "skip_h1_title": false,
      "title_cell": "Table of Contents",
      "title_sidebar": "Contents",
      "toc_cell": false,
      "toc_position": {
        "height": "calc(100% - 180px)",
        "left": "10px",
        "top": "150px",
        "width": "261.104px"
      },
      "toc_section_display": true,
      "toc_window_display": true
    },
    "colab": {
      "provenance": [],
      "include_colab_link": true
    }
  },
  "nbformat": 4,
  "nbformat_minor": 5
}